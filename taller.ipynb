{
 "cells": [
  {
   "cell_type": "markdown",
   "metadata": {},
   "source": [
    "### ejercicio 2\n",
    "Desarrollar un programa que ingrese un número flotante n y separe su parte entera de la parte decimal, y luego entregue los dígitos tanto de la parte entera como de la decimal.\n"
   ]
  },
  {
   "cell_type": "code",
   "execution_count": 21,
   "metadata": {},
   "outputs": [
    {
     "name": "stdout",
     "output_type": "stream",
     "text": [
      "los digitos de la parte entera son: [1, 8]\n",
      "los digitos de la parte decimal son: [6, 9, 0, 0, 0, 0, 0, 0, 0, 0, 0, 0, 0, 0, 1, 3]\n"
     ]
    }
   ],
   "source": [
    "\n",
    "#funcion para separar digitos\n",
    "def separar_numero_en_partes(numero) -> float:\n",
    "    # separe la parte entera de la decimal\n",
    "    parte_entera = int(numero)\n",
    "    parte_decimal = numero - parte_entera\n",
    "    #use str para volver el numero en cadena y asi el for de cada digito recorre la cadena\n",
    "    digitos_entera = [int(digito) for digito in str(abs(parte_entera))]\n",
    "    digitos_decimal = [int(digito) for digito in str(abs(parte_decimal))[2:]]\n",
    "    return digitos_entera, digitos_decimal\n",
    "#funcion principal:3\n",
    "if __name__ == \"__main__\":\n",
    "#usuario ingresa el numero, y  aparte se llama la funcion\n",
    "    numero = float(input(\"ingresa un numero con decimales: \"))\n",
    "    entero, decimal = separar_numero_en_partes(numero)\n",
    "#se imprimen los digitos, no me sale bien el del decimal hice de todo:(\n",
    "print(\"los digitos de la parte entera son: \" + str(entero))\n",
    "print(\"los digitos de la parte decimal son: \" + str(decimal))\n",
    "\n"
   ]
  },
  {
   "cell_type": "markdown",
   "metadata": {},
   "source": [
    "### ejercicio 4\n",
    "Diseñar una función que permita calcular una aproximación de la función coseno alrededor de 0 para cualquier valor x (real), utilizando los primeros n términos de la serie de Taylor. nota: use math para traer la función coseno y mostrar la diferencia entre el valor real y la aproximación. Calcule con cuántos términos de la serie (i.e: cuáles valores de n), se tienen errores del 10%, 1%, 0.1% y 0.001%.\n"
   ]
  },
  {
   "cell_type": "code",
   "execution_count": 38,
   "metadata": {},
   "outputs": [
    {
     "name": "stdout",
     "output_type": "stream",
     "text": [
      "el valor real es de: -0.7909677119144168\n",
      "la aproximacion es de: -0.808478647352409 y un error de: 1.75%\n"
     ]
    }
   ],
   "source": [
    "import math #importe la funcion math para luego poder implementarla\n",
    "\n",
    "def aproximacion_coseno(x, n): #defini la aproximacion coseno con los argumentos x y n \n",
    "    aproximacion = 0 #estableci la variable aproximacion con un valor de 0\n",
    "    \n",
    "    for i in range(n): #se itera los valores 0 a n dado para cada elemento de i\n",
    "        termino = ((-1) ** i) * (x ** (2 * i)) / math.factorial(2 * i) #calcule la ecuacion dada por taylor para la funcion coseno\n",
    "        aproximacion += termino #sume la aproximacion con el termino segun los terminos dados n y asi calcular la aproximacion con la formula de taylor \n",
    "    \n",
    "    return aproximacion #retorna la aproximacion\n",
    "if __name__ == \"__main__\":\n",
    "# Calcular la aproximación de la función exponencial para x = 3.8, utilizando los primeros 6 términos de la serie de Maclaurin\n",
    "    x:float = 3.8\n",
    "    n:int = 6\n",
    "    valor_real = math.cos(x) #se haya el valor real para luego imprimirlo\n",
    "while True: #use el ciclo while para que luego este cumpla la funcion if\n",
    "  aproximacion = aproximacion_coseno(x, n) #llame la funcion def para luego imprimirla y para hallar el error\n",
    "  error = abs(valor_real - aproximacion) #calcule el error con el valor real restando a la aproximacion hayada y use la funcion abs para que lo calcule con el valor absoluto\n",
    "  # Imprimir la diferencia si es menor del 0.1% de lo contrario no se ejecutara el programa ya que no se podra imprimir la cadena\n",
    "  if error < 0.1: \n",
    "     break\n",
    "porcentaje = error * 100 #multipliquee el error por 100 para darlo en porcentaje\n",
    "cadena = \"{:.2f}%\".format(porcentaje) #lo puse en un cadena de solo dos decimales \n",
    "print(\"el valor real es de: \" + str(valor_real)) #imprime el valor real\n",
    "print(\"la aproximacion es de: \" + str(aproximacion)+ \" y un error de: \"+ str(cadena)) # imprime la aproximacion y el error"
   ]
  },
  {
   "cell_type": "markdown",
   "metadata": {},
   "source": [
    "### ejercicio 6\n",
    "Desarrollar un programa que determine si en una lista existen o no elementos repetidos. Pista: Maneje valores booleanos y utilice el operador in.\n"
   ]
  },
  {
   "cell_type": "code",
   "execution_count": 39,
   "metadata": {},
   "outputs": [
    {
     "name": "stdout",
     "output_type": "stream",
     "text": [
      "la lista tiene elementos repetidos\n"
     ]
    }
   ],
   "source": [
    "#funcion para verificar si hay elemntos repetidos\n",
    "def elem_repetidos(lista):\n",
    "    for elem in lista:\n",
    "        # si los elemtos que estan recorriendo la lista son mayores de 1 osea estan repetidos se retorna verdadero\n",
    "        if lista.count(elem)> 1:\n",
    "            return True\n",
    "        #si no hay elementos negativos se retona falso\n",
    "    return False\n",
    "#funcion principal:#\n",
    "if __name__ == \"__main__\":\n",
    "    #la lista dada por mi:b\n",
    "    lista = [7, 'lindo', 8, 7, 5, 'oiga', 3, 11, 'true', 6, 'lindo']\n",
    "#llamo a la funcion\n",
    "elem = elem_repetidos(lista)\n",
    "#si es verdadero imprime que si hay elemtos repetidos de lo contrario imprime que no hay elemetos repetidos\n",
    "if elem:\n",
    "    print(\"la lista tiene elementos repetidos\")\n",
    "else: \n",
    "    print(\"la lista no tiene elementos repetidos\")"
   ]
  },
  {
   "cell_type": "markdown",
   "metadata": {},
   "source": [
    "### ejercicio 8\n",
    "Desarrollar un programa que dadas dos listas determine que elementos tiene la primer lista que no tenga la segunda lista."
   ]
  },
  {
   "cell_type": "code",
   "execution_count": 40,
   "metadata": {},
   "outputs": [
    {
     "name": "stdout",
     "output_type": "stream",
     "text": [
      "los elementos diferentes que tiene la primer lista son: [1, True]\n"
     ]
    }
   ],
   "source": [
    "#funcion para veirificar si hay elementos diferentes en una lista\n",
    "def elem_diferentes(list1, list2):\n",
    "    #cree una lista vacia\n",
    "    elementos = []\n",
    "    #elem recorre la lista1\n",
    "    for elem in list1:\n",
    "        #si elem no esta en la lista2 lo guarda en la lista vacia \n",
    "        if elem not in list2:\n",
    "            elementos.append(elem)\n",
    "    return elementos \n",
    "#funcion princiál:3\n",
    "if __name__ == \"__main__\":\n",
    "#las listas\n",
    "    list1 = [1, 'hola', -12.3, True]\n",
    "    list2 = [11, -12.3, 'hola', False]\n",
    "#llama la funcion\n",
    "elementos = elem_diferentes(list1, list2)\n",
    "#imprime los elemtos de la lista vacia\n",
    "print(\"los elementos diferentes que tiene la primer lista son: \" + str(elementos))"
   ]
  },
  {
   "cell_type": "markdown",
   "metadata": {},
   "source": [
    "### ejercicio 10\n",
    "Suponga que se tiene una lista A con ciertos números enteros. Desarrolle una función que, independientemente de los números que se encuentran en la lista A, tome aquellos números que son múltiplos de 3 y los guarde en una lista nueva, la cual debe ser retornada por la función. Implemente la perspectiva de un patrón de acumulación y también de comprensión de listas. Desafío: Si ya lo logró, inténtelo ahora sin utilizar el módulo (%). Pista: Un número es multiplo de 3 si la suma de sus dígitos también lo es, ¿verdad?\n",
    "\n"
   ]
  },
  {
   "cell_type": "code",
   "execution_count": 41,
   "metadata": {},
   "outputs": [
    {
     "name": "stdout",
     "output_type": "stream",
     "text": [
      "[21, 45, 12, 9, 27, 24, 6]\n"
     ]
    }
   ],
   "source": [
    "#funcion para hallar multiplos de 3 en una lista \n",
    "def multiplo(a):\n",
    "    #lista vacia\n",
    "    multiplos_3 =[]\n",
    "    #n recorre la lista a\n",
    "    for n in a:\n",
    "        #todo divisor de tres da un residuo de o\n",
    "        if n % 3 == 0:\n",
    "            # lo agrega a la lista vacia\n",
    "            multiplos_3.append(n)\n",
    "    return multiplos_3\n",
    "#funcion principal:3\n",
    "if __name__ == \"__main__\":\n",
    "  #la lista  \n",
    "    a = [21, 45, 67, 12, 8, 4, 9, 27, 31, 11, 24, 1, 5, 7, 10, 6]\n",
    "#llama la funcion\n",
    "resultado = multiplo(a)\n",
    "#imprime la salida\n",
    "print(resultado)"
   ]
  },
  {
   "cell_type": "code",
   "execution_count": 42,
   "metadata": {},
   "outputs": [
    {
     "name": "stdout",
     "output_type": "stream",
     "text": [
      "[21, 45, 12, 9, 27, 24, 6]\n"
     ]
    }
   ],
   "source": [
    "#la misma funcion pero sin usar modulo\n",
    "def multiplo(a):\n",
    "    #lista vacia\n",
    "    multiplos_3 =[]\n",
    "    #n recorre la lista\n",
    "    for n in a:\n",
    "        #hice los mismo que en el punto 1 solo que sume los digitos los use hasta la suma de los digitos que de 9\n",
    "        if sum(int(digito) for digito in str(abs(n))) == 0 or sum(int(digito) for digito in str(abs(n))) == 3 or sum(int(digito) for digito in str(abs(n))) == 6 or sum(int(digito) for digito in str(abs(n))) == 9:\n",
    "            #los guarda en la lista vacia\n",
    "            multiplos_3.append(n)\n",
    "    return multiplos_3\n",
    "#funcion princiál:2\n",
    "if __name__ == \"__main__\":\n",
    " #la lista   \n",
    "    a = [21, 45, 67, 12, 8, 4, 9, 27, 31, 11, 24, 1, 5, 7, 10, 6]\n",
    "#llama la funcion y imprime el resultado\n",
    "resultado = multiplo(a)\n",
    "print(resultado)"
   ]
  }
 ],
 "metadata": {
  "kernelspec": {
   "display_name": "Python 3",
   "language": "python",
   "name": "python3"
  },
  "language_info": {
   "codemirror_mode": {
    "name": "ipython",
    "version": 3
   },
   "file_extension": ".py",
   "mimetype": "text/x-python",
   "name": "python",
   "nbconvert_exporter": "python",
   "pygments_lexer": "ipython3",
   "version": "3.11.4"
  }
 },
 "nbformat": 4,
 "nbformat_minor": 2
}
